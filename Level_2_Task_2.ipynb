{
 "cells": [
  {
   "cell_type": "markdown",
   "id": "befbb4ef",
   "metadata": {},
   "source": [
    "# Task: Cuisine Combination\n",
    "Identify the most common combinations of\n",
    "cuisines in the dataset.\n",
    "Determine if certain cuisine combinations\n",
    "tend to have higher ratings."
   ]
  },
  {
   "cell_type": "code",
   "execution_count": 1,
   "id": "6f126598",
   "metadata": {},
   "outputs": [],
   "source": [
    "import pandas as pd \n",
    "df=pd.read_csv(\"Dataset.csv\")\n",
    "cuisines_cleaned=df.dropna(subset=['Cuisines'])"
   ]
  },
  {
   "cell_type": "code",
   "execution_count": 2,
   "id": "85a727b9",
   "metadata": {},
   "outputs": [
    {
     "name": "stdout",
     "output_type": "stream",
     "text": [
      "Most common combinations of cuisines is\n",
      "North Indian             936\n",
      "North Indian, Chinese    511\n",
      "Chinese                  354\n",
      "Fast Food                354\n",
      "North Indian, Mughlai    334\n",
      "Name: Cuisines, dtype: int64\n"
     ]
    }
   ],
   "source": [
    "#most common cuisines combination\n",
    "cuisines_cleaned = df.dropna(subset=['Cuisines'])\n",
    "cuisines_combo = cuisines_cleaned['Cuisines'].value_counts()\n",
    "cuisines_most_combo = cuisines_combo.head(5)\n",
    "print(f\"Most common combinations of cuisines is\\n{cuisines_most_combo}\")"
   ]
  },
  {
   "cell_type": "code",
   "execution_count": 3,
   "id": "24e4a139",
   "metadata": {},
   "outputs": [
    {
     "data": {
      "text/plain": [
       "Cuisines\n",
       "American, Sandwich, Tea         4.9\n",
       "Hawaiian, Seafood               4.9\n",
       "European, Asian, Indian         4.9\n",
       "European, Contemporary          4.9\n",
       "European, German                4.9\n",
       "Italian, Deli                   4.9\n",
       "BBQ, Breakfast, Southern        4.9\n",
       "American, Coffee and Tea        4.9\n",
       "Sunda, Indonesian               4.9\n",
       "American, Caribbean, Seafood    4.9\n",
       "Name: Aggregate rating, dtype: float64"
      ]
     },
     "execution_count": 3,
     "metadata": {},
     "output_type": "execute_result"
    }
   ],
   "source": [
    "#Cuisines combinations tend to have higher ratings\n",
    "cuisines_combo_rating = df.groupby('Cuisines')['Aggregate rating'].mean().round(2)\n",
    "cuisines_combo_hihger_rating = cuisines_combo_rating.sort_values( ascending = False).head(10)\n",
    "cuisines_combo_hihger_rating"
   ]
  },
  {
   "cell_type": "code",
   "execution_count": null,
   "id": "b894529c",
   "metadata": {},
   "outputs": [],
   "source": []
  }
 ],
 "metadata": {
  "kernelspec": {
   "display_name": "Python 3 (ipykernel)",
   "language": "python",
   "name": "python3"
  },
  "language_info": {
   "codemirror_mode": {
    "name": "ipython",
    "version": 3
   },
   "file_extension": ".py",
   "mimetype": "text/x-python",
   "name": "python",
   "nbconvert_exporter": "python",
   "pygments_lexer": "ipython3",
   "version": "3.11.4"
  }
 },
 "nbformat": 4,
 "nbformat_minor": 5
}
