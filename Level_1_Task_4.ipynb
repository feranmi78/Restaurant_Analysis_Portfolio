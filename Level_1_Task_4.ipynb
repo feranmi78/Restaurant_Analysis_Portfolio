{
 "cells": [
  {
   "cell_type": "markdown",
   "id": "9d477339",
   "metadata": {},
   "source": [
    "# Task: Online Delivery\n",
    "Determine the percentage of restaurants\n",
    "that offer online delivery.\n",
    "Compare the average ratings of restaurants\n",
    "with and without online delivery"
   ]
  },
  {
   "cell_type": "code",
   "execution_count": 1,
   "id": "93daa96a",
   "metadata": {},
   "outputs": [],
   "source": [
    "import pandas as pd\n",
    "df=pd.read_csv(\"Dataset.csv\")"
   ]
  },
  {
   "cell_type": "code",
   "execution_count": 2,
   "id": "10c33ef7",
   "metadata": {},
   "outputs": [
    {
     "name": "stdout",
     "output_type": "stream",
     "text": [
      "The Percentage of restaurants that offer online delivery are as follow\n",
      "No     74.34\n",
      "Yes    25.66\n",
      "Name: Has Online delivery, dtype: float64\n"
     ]
    }
   ],
   "source": [
    "cleaned=df['Has Online delivery'].str.strip()\n",
    "delivery_counts=cleaned.value_counts()\n",
    "delivery_percentage=(delivery_counts/delivery_counts.sum()*100).round(2)\n",
    "print(f\"The Percentage of restaurants that offer online delivery are as follow\\n{delivery_percentage}\")"
   ]
  },
  {
   "cell_type": "code",
   "execution_count": 3,
   "id": "bc3a51c2",
   "metadata": {},
   "outputs": [
    {
     "name": "stdout",
     "output_type": "stream",
     "text": [
      "The average rating of restaurants with and WITH and WITHOUT online delivery are given below\n",
      "Has Online delivery\n",
      "No     2.47\n",
      "Yes    3.25\n",
      "Name: Aggregate rating, dtype: float64\n"
     ]
    }
   ],
   "source": [
    "ratings=df.groupby('Has Online delivery')['Aggregate rating'].mean().round(2)\n",
    "print(f\"The average rating of restaurants with and WITH and WITHOUT online delivery are given below\\n{ratings}\")"
   ]
  },
  {
   "cell_type": "code",
   "execution_count": null,
   "id": "ba5961bf",
   "metadata": {},
   "outputs": [],
   "source": []
  }
 ],
 "metadata": {
  "kernelspec": {
   "display_name": "Python 3 (ipykernel)",
   "language": "python",
   "name": "python3"
  },
  "language_info": {
   "codemirror_mode": {
    "name": "ipython",
    "version": 3
   },
   "file_extension": ".py",
   "mimetype": "text/x-python",
   "name": "python",
   "nbconvert_exporter": "python",
   "pygments_lexer": "ipython3",
   "version": "3.11.4"
  }
 },
 "nbformat": 4,
 "nbformat_minor": 5
}
