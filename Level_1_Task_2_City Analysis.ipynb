{
 "cells": [
  {
   "cell_type": "markdown",
   "id": "072732bb",
   "metadata": {},
   "source": [
    "# Task: City Analysis\n",
    "Identify the city with the highest number\n",
    "of restaurants in the dataset.\n",
    "Calculate the average rating for\n",
    "restaurants in each city.\n",
    "Determine the city with the highest\n",
    "average rating."
   ]
  },
  {
   "cell_type": "code",
   "execution_count": 2,
   "id": "2b1711a3",
   "metadata": {},
   "outputs": [
    {
     "data": {
      "text/plain": [
       "Index(['Restaurant ID', 'Restaurant Name', 'Country Code', 'City', 'Address',\n",
       "       'Locality', 'Locality Verbose', 'Longitude', 'Latitude', 'Cuisines',\n",
       "       'Average Cost for two', 'Currency', 'Has Table booking',\n",
       "       'Has Online delivery', 'Is delivering now', 'Switch to order menu',\n",
       "       'Price range', 'Aggregate rating', 'Rating color', 'Rating text',\n",
       "       'Votes'],\n",
       "      dtype='object')"
      ]
     },
     "execution_count": 2,
     "metadata": {},
     "output_type": "execute_result"
    }
   ],
   "source": [
    "import pandas as pd\n",
    "df = pd.read_csv(\"Dataset.csv\")\n",
    "df.columns"
   ]
  },
  {
   "cell_type": "code",
   "execution_count": 4,
   "id": "6989ae20",
   "metadata": {},
   "outputs": [
    {
     "name": "stdout",
     "output_type": "stream",
     "text": [
      "City with the highest number of restaurant is New Delhi with 5473\n"
     ]
    }
   ],
   "source": [
    "cleaned=df.dropna(subset=['City', 'Aggregate rating'])\n",
    "city_counts = cleaned['City'].value_counts()\n",
    "city_restaurants_max=city_counts.idxmax()\n",
    "city_max_value=city_counts.max()\n",
    "print(f\"City with the highest number of restaurant is {city_restaurants_max} with {city_max_value}\")"
   ]
  },
  {
   "cell_type": "code",
   "execution_count": 5,
   "id": "44319c21",
   "metadata": {},
   "outputs": [
    {
     "name": "stdout",
     "output_type": "stream",
     "text": [
      "The Average Rating of Restaurant for Each City are as follow\n",
      "City\n",
      "Abu Dhabi          4.30\n",
      "Agra               3.96\n",
      "Ahmedabad          4.16\n",
      "Albany             3.56\n",
      "Allahabad          3.40\n",
      "                   ... \n",
      "Weirton            3.90\n",
      "Wellington City    4.25\n",
      "Winchester Bay     3.20\n",
      "Yorkton            3.30\n",
      "��stanbul          4.29\n",
      "Name: Aggregate rating, Length: 141, dtype: float64\n"
     ]
    }
   ],
   "source": [
    "average_rating=cleaned.groupby('City')['Aggregate rating'].mean().round(2)\n",
    "print(f\"The Average Rating of Restaurant for Each City are as follow\\n{average_rating}\")"
   ]
  },
  {
   "cell_type": "code",
   "execution_count": 19,
   "id": "6b7256ce",
   "metadata": {},
   "outputs": [
    {
     "name": "stdout",
     "output_type": "stream",
     "text": [
      "The City with the highest average aggregate rating is\n",
      " Inner City with 4.9\n"
     ]
    }
   ],
   "source": [
    "ave_rating_counts=average_rating.value_counts()\n",
    "highest_rating=average_rating.idxmax()\n",
    "highest_rating_value=average_rating.max()\n",
    "print(f\"The City with the highest average aggregate rating is\\n {highest_rating} with {highest_rating_value}\")"
   ]
  }
 ],
 "metadata": {
  "kernelspec": {
   "display_name": "Python 3 (ipykernel)",
   "language": "python",
   "name": "python3"
  },
  "language_info": {
   "codemirror_mode": {
    "name": "ipython",
    "version": 3
   },
   "file_extension": ".py",
   "mimetype": "text/x-python",
   "name": "python",
   "nbconvert_exporter": "python",
   "pygments_lexer": "ipython3",
   "version": "3.11.4"
  }
 },
 "nbformat": 4,
 "nbformat_minor": 5
}
